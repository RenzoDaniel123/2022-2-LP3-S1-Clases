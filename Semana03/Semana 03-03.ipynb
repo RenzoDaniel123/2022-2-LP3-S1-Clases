{
 "cells": [
  {
   "cell_type": "markdown",
   "id": "58363f86",
   "metadata": {},
   "source": [
    "# SEMANA 03\n",
    "Renzo Daniel Felix Alvarado"
   ]
  },
  {
   "cell_type": "markdown",
   "id": "3ee195c2",
   "metadata": {},
   "source": [
    "Temas:\n",
    "    1. Números\n",
    "    2. Variables\n",
    "    3. Manejo de datos\n",
    "    4. Ingreso de datos por Teclado\n",
    "    5. Operadores"
   ]
  },
  {
   "cell_type": "markdown",
   "id": "2b546d22",
   "metadata": {},
   "source": [
    "3. Manejo de Cadenas"
   ]
  },
  {
   "cell_type": "code",
   "execution_count": 2,
   "id": "7e7bdfba",
   "metadata": {},
   "outputs": [
    {
     "data": {
      "text/plain": [
       "'Universidad Nacional Tecnológica De Lima Sur'"
      ]
     },
     "execution_count": 2,
     "metadata": {},
     "output_type": "execute_result"
    }
   ],
   "source": [
    "cadena = \"Universidad Nacional Tecnológica De Lima Sur\"\n",
    "cadena"
   ]
  },
  {
   "cell_type": "code",
   "execution_count": 3,
   "id": "35f1e7d5",
   "metadata": {},
   "outputs": [],
   "source": [
    "#Universidad Nacional Tecnologica de Lima sur\n",
    "#01234...................................-2-1"
   ]
  },
  {
   "cell_type": "code",
   "execution_count": 4,
   "id": "8708ab6c",
   "metadata": {},
   "outputs": [
    {
     "data": {
      "text/plain": [
       "'r'"
      ]
     },
     "execution_count": 4,
     "metadata": {},
     "output_type": "execute_result"
    }
   ],
   "source": [
    "cadena[5]"
   ]
  },
  {
   "cell_type": "code",
   "execution_count": 5,
   "id": "b720ac5a",
   "metadata": {},
   "outputs": [
    {
     "data": {
      "text/plain": [
       "'d'"
      ]
     },
     "execution_count": 5,
     "metadata": {},
     "output_type": "execute_result"
    }
   ],
   "source": [
    "cadena[10]"
   ]
  },
  {
   "cell_type": "code",
   "execution_count": 6,
   "id": "31bcebb9",
   "metadata": {},
   "outputs": [],
   "source": [
    "# Tambien considera los espacios en blanco"
   ]
  },
  {
   "cell_type": "code",
   "execution_count": 7,
   "id": "dc481cc6",
   "metadata": {},
   "outputs": [
    {
     "data": {
      "text/plain": [
       "' '"
      ]
     },
     "execution_count": 7,
     "metadata": {},
     "output_type": "execute_result"
    }
   ],
   "source": [
    "cadena[11]"
   ]
  },
  {
   "cell_type": "code",
   "execution_count": 8,
   "id": "91766497",
   "metadata": {},
   "outputs": [],
   "source": [
    "# ¿Qué me mostrara?"
   ]
  },
  {
   "cell_type": "code",
   "execution_count": 9,
   "id": "bbda9cec",
   "metadata": {},
   "outputs": [
    {
     "data": {
      "text/plain": [
       "'a'"
      ]
     },
     "execution_count": 9,
     "metadata": {},
     "output_type": "execute_result"
    }
   ],
   "source": [
    "cadena[-5]"
   ]
  },
  {
   "cell_type": "code",
   "execution_count": 10,
   "id": "a8c377bb",
   "metadata": {},
   "outputs": [
    {
     "data": {
      "text/plain": [
       "'T'"
      ]
     },
     "execution_count": 10,
     "metadata": {},
     "output_type": "execute_result"
    }
   ],
   "source": [
    "cadena[21]"
   ]
  },
  {
   "cell_type": "code",
   "execution_count": 11,
   "id": "e6097eb1",
   "metadata": {},
   "outputs": [],
   "source": [
    "# Tambien lo puedo mostrar accediendo de manera inversa"
   ]
  },
  {
   "cell_type": "code",
   "execution_count": 12,
   "id": "f8f468a7",
   "metadata": {},
   "outputs": [
    {
     "data": {
      "text/plain": [
       "'T'"
      ]
     },
     "execution_count": 12,
     "metadata": {},
     "output_type": "execute_result"
    }
   ],
   "source": [
    "cadena[-23]"
   ]
  },
  {
   "cell_type": "code",
   "execution_count": 13,
   "id": "3f7aeb20",
   "metadata": {},
   "outputs": [],
   "source": [
    "# Para mostrar una subcadena [desde, antes de]\n",
    "# En Java era substring()"
   ]
  },
  {
   "cell_type": "code",
   "execution_count": 14,
   "id": "7fb2dc5e",
   "metadata": {},
   "outputs": [
    {
     "data": {
      "text/plain": [
       "'versi'"
      ]
     },
     "execution_count": 14,
     "metadata": {},
     "output_type": "execute_result"
    }
   ],
   "source": [
    "cadena[3:8]"
   ]
  },
  {
   "cell_type": "code",
   "execution_count": 16,
   "id": "0a695b04",
   "metadata": {},
   "outputs": [],
   "source": [
    "# Para saber el tamaño de una cadena utilizamos len()\n",
    "# Incluye espacios en blanco"
   ]
  },
  {
   "cell_type": "code",
   "execution_count": 17,
   "id": "b82d31d3",
   "metadata": {},
   "outputs": [
    {
     "data": {
      "text/plain": [
       "44"
      ]
     },
     "execution_count": 17,
     "metadata": {},
     "output_type": "execute_result"
    }
   ],
   "source": [
    "len(cadena)"
   ]
  },
  {
   "cell_type": "code",
   "execution_count": 18,
   "id": "6141aff1",
   "metadata": {},
   "outputs": [],
   "source": [
    "# Para mostrar una cadena en mayúscula utilizamos upper()"
   ]
  },
  {
   "cell_type": "code",
   "execution_count": 19,
   "id": "6ac91782",
   "metadata": {},
   "outputs": [
    {
     "data": {
      "text/plain": [
       "'UNIVERSIDAD NACIONAL TECNOLÓGICA DE LIMA SUR'"
      ]
     },
     "execution_count": 19,
     "metadata": {},
     "output_type": "execute_result"
    }
   ],
   "source": [
    "cadena.upper()"
   ]
  },
  {
   "cell_type": "code",
   "execution_count": 21,
   "id": "d3260d50",
   "metadata": {},
   "outputs": [],
   "source": [
    "# Ojo---- solo lo muestra, porque el original sigue siendo igual"
   ]
  },
  {
   "cell_type": "code",
   "execution_count": 22,
   "id": "7746022a",
   "metadata": {},
   "outputs": [
    {
     "data": {
      "text/plain": [
       "'Universidad Nacional Tecnológica De Lima Sur'"
      ]
     },
     "execution_count": 22,
     "metadata": {},
     "output_type": "execute_result"
    }
   ],
   "source": [
    "cadena"
   ]
  },
  {
   "cell_type": "code",
   "execution_count": 27,
   "id": "557c8ac5",
   "metadata": {},
   "outputs": [
    {
     "data": {
      "text/plain": [
       "'UNIVERSIDAD NACIONAL TECNOLÓGICA DE LIMA SUR'"
      ]
     },
     "execution_count": 27,
     "metadata": {},
     "output_type": "execute_result"
    }
   ],
   "source": [
    "# Si desearamos cambiarlo harias: cadena = cadena.upper()\n",
    "cadena = cadena.upper()\n",
    "cadena"
   ]
  },
  {
   "cell_type": "code",
   "execution_count": 28,
   "id": "962d9a48",
   "metadata": {},
   "outputs": [
    {
     "data": {
      "text/plain": [
       "'universidad nacional tecnológica de lima sur'"
      ]
     },
     "execution_count": 28,
     "metadata": {},
     "output_type": "execute_result"
    }
   ],
   "source": [
    "# Para mostrar una cadena en minúscula utilizamos la función lower()\n",
    "cadena.lower()"
   ]
  },
  {
   "cell_type": "code",
   "execution_count": 29,
   "id": "b7db0d9e",
   "metadata": {},
   "outputs": [
    {
     "data": {
      "text/plain": [
       "['UNIVERSIDAD', 'NACIONAL', 'TECNOLÓGICA', 'DE', 'LIMA', 'SUR']"
      ]
     },
     "execution_count": 29,
     "metadata": {},
     "output_type": "execute_result"
    }
   ],
   "source": [
    "# Generar una lista a partir de una cadena split()\n",
    "cadena.split()"
   ]
  },
  {
   "cell_type": "code",
   "execution_count": 31,
   "id": "68b6f7c6",
   "metadata": {},
   "outputs": [
    {
     "data": {
      "text/plain": [
       "['UNIVERSID', 'D N', 'CION', 'L TECNOLÓGIC', ' DE LIM', ' SUR']"
      ]
     },
     "execution_count": 31,
     "metadata": {},
     "output_type": "execute_result"
    }
   ],
   "source": [
    "# Generar  una listas utilizando un criterio a partir de una cadena.split()\n",
    "# En este caso vamos a generar una lista de toda la cadena, utilizando como criterio de separación la letra \"A\".\n",
    "cadena.split(\"A\")"
   ]
  },
  {
   "cell_type": "code",
   "execution_count": 33,
   "id": "5e8cdfe7",
   "metadata": {},
   "outputs": [
    {
     "name": "stdout",
     "output_type": "stream",
     "text": [
      " Buenas Tardes Renzo Daniel\n"
     ]
    }
   ],
   "source": [
    "# Forma clasica, concatenar con +\n",
    "nombre = \"Renzo Daniel\"\n",
    "print(\" Buenas Tardes \" + nombre)"
   ]
  },
  {
   "cell_type": "code",
   "execution_count": 35,
   "id": "13b47dfb",
   "metadata": {},
   "outputs": [
    {
     "name": "stdout",
     "output_type": "stream",
     "text": [
      "Hola  Mario Lopez ya se que tienes 15 años\n"
     ]
    }
   ],
   "source": [
    "# Segunda forma de concatenar utilizando  el .format()\n",
    "nombre = \" Mario Lopez\"\n",
    "edad = 15\n",
    "print(\"Hola {} ya se que tienes {} años\".format(nombre,edad))"
   ]
  },
  {
   "cell_type": "code",
   "execution_count": 37,
   "id": "578d4136",
   "metadata": {},
   "outputs": [
    {
     "name": "stdout",
     "output_type": "stream",
     "text": [
      "10/3 es = 3.3333333333333335\n",
      "10/3 es = 3.333\n"
     ]
    }
   ],
   "source": [
    "# Dar formato a números con muchos decimales\n",
    "resultado = 10/3\n",
    "print(\"10/3 es = {}\".format(resultado))\n",
    "print(\"10/3 es = {r:1.3f}\".format(r=resultado))"
   ]
  },
  {
   "cell_type": "code",
   "execution_count": 39,
   "id": "b576ba80",
   "metadata": {},
   "outputs": [
    {
     "name": "stdout",
     "output_type": "stream",
     "text": [
      "Buenos días Lucía Camarena, ya se que tienes 17 años\n"
     ]
    }
   ],
   "source": [
    "# Dar formato  con f\n",
    "# La funcion f, está disponible desde la fversion 3.6\n",
    "nombre = \"Lucía Camarena\"\n",
    "edad = 17\n",
    "print(f\"Buenos días {nombre}, ya se que tienes {edad} años\")"
   ]
  },
  {
   "cell_type": "code",
   "execution_count": 40,
   "id": "f7aed8fa",
   "metadata": {},
   "outputs": [
    {
     "name": "stdout",
     "output_type": "stream",
     "text": [
      "10/3 es = 3.3333333333333335\n",
      "10/3 es = 3.333\n"
     ]
    }
   ],
   "source": [
    "# Dar formato a números con muchos decimales.\n",
    "resultado = 10/3\n",
    "print(f\"10/3 es = {resultado}\")\n",
    "print(f\"10/3 es = {resultado:1.3f}\")"
   ]
  },
  {
   "cell_type": "code",
   "execution_count": null,
   "id": "b87e2521",
   "metadata": {},
   "outputs": [],
   "source": []
  }
 ],
 "metadata": {
  "kernelspec": {
   "display_name": "Python 3 (ipykernel)",
   "language": "python",
   "name": "python3"
  },
  "language_info": {
   "codemirror_mode": {
    "name": "ipython",
    "version": 3
   },
   "file_extension": ".py",
   "mimetype": "text/x-python",
   "name": "python",
   "nbconvert_exporter": "python",
   "pygments_lexer": "ipython3",
   "version": "3.9.12"
  }
 },
 "nbformat": 4,
 "nbformat_minor": 5
}
