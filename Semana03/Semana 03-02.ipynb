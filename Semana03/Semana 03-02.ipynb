{
 "cells": [
  {
   "cell_type": "markdown",
   "id": "64ee3636",
   "metadata": {},
   "source": [
    "# SEMANA 03\n",
    "Renzo Daniel Felix Alvarado"
   ]
  },
  {
   "cell_type": "markdown",
   "id": "6abd59e1",
   "metadata": {},
   "source": [
    "Temas:\n",
    "    1. Números\n",
    "    2. Variables\n",
    "    3. Manejo de datos\n",
    "    4. Ingreso de datos por Teclado\n",
    "    5. Operados"
   ]
  },
  {
   "cell_type": "markdown",
   "id": "44f5bc3e",
   "metadata": {},
   "source": [
    "2. Variables"
   ]
  },
  {
   "cell_type": "code",
   "execution_count": 1,
   "id": "6be269e5",
   "metadata": {},
   "outputs": [],
   "source": [
    "#Siempre deben iniciar con letra o guión abajo. (Nunca con un número u otro simbolo)"
   ]
  },
  {
   "cell_type": "code",
   "execution_count": 2,
   "id": "5f314db9",
   "metadata": {},
   "outputs": [
    {
     "data": {
      "text/plain": [
       "19"
      ]
     },
     "execution_count": 2,
     "metadata": {},
     "output_type": "execute_result"
    }
   ],
   "source": [
    "edad = 19\n",
    "edad"
   ]
  },
  {
   "cell_type": "code",
   "execution_count": 3,
   "id": "cedb058b",
   "metadata": {},
   "outputs": [],
   "source": [
    "nombre = \"Renzo\""
   ]
  },
  {
   "cell_type": "code",
   "execution_count": 4,
   "id": "d462977d",
   "metadata": {},
   "outputs": [
    {
     "data": {
      "text/plain": [
       "'Renzo'"
      ]
     },
     "execution_count": 4,
     "metadata": {},
     "output_type": "execute_result"
    }
   ],
   "source": [
    "nombre"
   ]
  },
  {
   "cell_type": "code",
   "execution_count": 5,
   "id": "0be37daf",
   "metadata": {},
   "outputs": [],
   "source": [
    "apellido = \"Felix Alvarado\""
   ]
  },
  {
   "cell_type": "code",
   "execution_count": 6,
   "id": "6d5d2ceb",
   "metadata": {},
   "outputs": [
    {
     "data": {
      "text/plain": [
       "'Felix Alvarado'"
      ]
     },
     "execution_count": 6,
     "metadata": {},
     "output_type": "execute_result"
    }
   ],
   "source": [
    "apellido"
   ]
  },
  {
   "cell_type": "code",
   "execution_count": 7,
   "id": "2236eee4",
   "metadata": {},
   "outputs": [],
   "source": [
    "nombrecompleto = nombre + apellido"
   ]
  },
  {
   "cell_type": "code",
   "execution_count": 8,
   "id": "5ba2984e",
   "metadata": {},
   "outputs": [
    {
     "data": {
      "text/plain": [
       "'RenzoFelix Alvarado'"
      ]
     },
     "execution_count": 8,
     "metadata": {},
     "output_type": "execute_result"
    }
   ],
   "source": [
    "nombrecompleto"
   ]
  },
  {
   "cell_type": "code",
   "execution_count": 11,
   "id": "2dbad1e0",
   "metadata": {},
   "outputs": [],
   "source": [
    "nombrecompleto = nombre + \" \" + apellido"
   ]
  },
  {
   "cell_type": "code",
   "execution_count": 12,
   "id": "7843afb7",
   "metadata": {},
   "outputs": [
    {
     "data": {
      "text/plain": [
       "'Renzo Felix Alvarado'"
      ]
     },
     "execution_count": 12,
     "metadata": {},
     "output_type": "execute_result"
    }
   ],
   "source": [
    "nombrecompleto"
   ]
  },
  {
   "cell_type": "code",
   "execution_count": 13,
   "id": "c0b87d60",
   "metadata": {},
   "outputs": [],
   "source": [
    "# Para saber el tipo de variable de la función type()\n",
    "# Ejemplo:"
   ]
  },
  {
   "cell_type": "code",
   "execution_count": 14,
   "id": "7f6d0f40",
   "metadata": {},
   "outputs": [
    {
     "data": {
      "text/plain": [
       "int"
      ]
     },
     "execution_count": 14,
     "metadata": {},
     "output_type": "execute_result"
    }
   ],
   "source": [
    "numero = 45\n",
    "type(numero)"
   ]
  },
  {
   "cell_type": "code",
   "execution_count": 15,
   "id": "da7d72b3",
   "metadata": {},
   "outputs": [
    {
     "data": {
      "text/plain": [
       "str"
      ]
     },
     "execution_count": 15,
     "metadata": {},
     "output_type": "execute_result"
    }
   ],
   "source": [
    "type(nombre)"
   ]
  },
  {
   "cell_type": "code",
   "execution_count": 16,
   "id": "d9d12adc",
   "metadata": {},
   "outputs": [],
   "source": [
    "talla = 1.75"
   ]
  },
  {
   "cell_type": "code",
   "execution_count": 17,
   "id": "80502891",
   "metadata": {},
   "outputs": [
    {
     "data": {
      "text/plain": [
       "1.75"
      ]
     },
     "execution_count": 17,
     "metadata": {},
     "output_type": "execute_result"
    }
   ],
   "source": [
    "talla"
   ]
  },
  {
   "cell_type": "code",
   "execution_count": 18,
   "id": "cfdbafb1",
   "metadata": {},
   "outputs": [
    {
     "data": {
      "text/plain": [
       "float"
      ]
     },
     "execution_count": 18,
     "metadata": {},
     "output_type": "execute_result"
    }
   ],
   "source": [
    "type(talla)"
   ]
  },
  {
   "cell_type": "code",
   "execution_count": 19,
   "id": "9c322890",
   "metadata": {},
   "outputs": [],
   "source": [
    "# Para convertir un número en una cadena utilizamos str()"
   ]
  },
  {
   "cell_type": "code",
   "execution_count": 23,
   "id": "b4c975b9",
   "metadata": {},
   "outputs": [],
   "source": [
    "numero = 100\n",
    "cadena = str(numero)"
   ]
  },
  {
   "cell_type": "code",
   "execution_count": 24,
   "id": "bcd80584",
   "metadata": {},
   "outputs": [
    {
     "data": {
      "text/plain": [
       "'100'"
      ]
     },
     "execution_count": 24,
     "metadata": {},
     "output_type": "execute_result"
    }
   ],
   "source": [
    "cadena"
   ]
  },
  {
   "cell_type": "code",
   "execution_count": 25,
   "id": "d50ecdcc",
   "metadata": {},
   "outputs": [
    {
     "data": {
      "text/plain": [
       "str"
      ]
     },
     "execution_count": 25,
     "metadata": {},
     "output_type": "execute_result"
    }
   ],
   "source": [
    "type(cadena)"
   ]
  },
  {
   "cell_type": "code",
   "execution_count": 26,
   "id": "c143cb5a",
   "metadata": {},
   "outputs": [],
   "source": [
    "# Para convertir una cadena en un utilizamos int()"
   ]
  },
  {
   "cell_type": "code",
   "execution_count": 27,
   "id": "26d247d6",
   "metadata": {},
   "outputs": [
    {
     "data": {
      "text/plain": [
       "50"
      ]
     },
     "execution_count": 27,
     "metadata": {},
     "output_type": "execute_result"
    }
   ],
   "source": [
    "cadena2 = \"50\"\n",
    "numero2 = int(cadena2)\n",
    "numero2"
   ]
  },
  {
   "cell_type": "code",
   "execution_count": 28,
   "id": "534048b7",
   "metadata": {},
   "outputs": [
    {
     "data": {
      "text/plain": [
       "int"
      ]
     },
     "execution_count": 28,
     "metadata": {},
     "output_type": "execute_result"
    }
   ],
   "source": [
    "type(numero2)"
   ]
  },
  {
   "cell_type": "code",
   "execution_count": 29,
   "id": "279594db",
   "metadata": {},
   "outputs": [
    {
     "data": {
      "text/plain": [
       "50.0"
      ]
     },
     "execution_count": 29,
     "metadata": {},
     "output_type": "execute_result"
    }
   ],
   "source": [
    "cadena2 = \"50\"\n",
    "numero2 = float(cadena2)\n",
    "numero2"
   ]
  },
  {
   "cell_type": "code",
   "execution_count": 30,
   "id": "9bcffdd0",
   "metadata": {},
   "outputs": [
    {
     "data": {
      "text/plain": [
       "float"
      ]
     },
     "execution_count": 30,
     "metadata": {},
     "output_type": "execute_result"
    }
   ],
   "source": [
    "type(numero2)"
   ]
  },
  {
   "cell_type": "code",
   "execution_count": null,
   "id": "397f2346",
   "metadata": {},
   "outputs": [],
   "source": []
  }
 ],
 "metadata": {
  "kernelspec": {
   "display_name": "Python 3 (ipykernel)",
   "language": "python",
   "name": "python3"
  },
  "language_info": {
   "codemirror_mode": {
    "name": "ipython",
    "version": 3
   },
   "file_extension": ".py",
   "mimetype": "text/x-python",
   "name": "python",
   "nbconvert_exporter": "python",
   "pygments_lexer": "ipython3",
   "version": "3.9.12"
  }
 },
 "nbformat": 4,
 "nbformat_minor": 5
}
