{
 "cells": [
  {
   "cell_type": "markdown",
   "id": "c5d1da04",
   "metadata": {},
   "source": [
    "# SEMANA 03\n",
    "Renzo Daniel Felix Alvarado"
   ]
  },
  {
   "cell_type": "markdown",
   "id": "af21e649",
   "metadata": {},
   "source": [
    "Temas:\n",
    "    1. Números\n",
    "    2. Variables\n",
    "    3. Manejo de datos\n",
    "    4. Ingreso de datos por Teclado\n",
    "    5. Operadores"
   ]
  },
  {
   "cell_type": "markdown",
   "id": "035e6dc2",
   "metadata": {},
   "source": [
    "4. Ingreso de datos por teclado"
   ]
  },
  {
   "cell_type": "code",
   "execution_count": 4,
   "id": "379eb187",
   "metadata": {},
   "outputs": [
    {
     "name": "stdout",
     "output_type": "stream",
     "text": [
      "¿Cual es tu nombre?\n",
      "Renzo\n",
      "Hola Renzo\n"
     ]
    }
   ],
   "source": [
    "# Funcion input()\n",
    "print(\"¿Cual es tu nombre?\")\n",
    "nombre = input()\n",
    "print(\"Hola \" + nombre)"
   ]
  },
  {
   "cell_type": "code",
   "execution_count": null,
   "id": "fcd95b6c",
   "metadata": {},
   "outputs": [],
   "source": [
    "# Cuando ingresa un valor por teclado lo hace como cadena"
   ]
  },
  {
   "cell_type": "code",
   "execution_count": 7,
   "id": "0e291dec",
   "metadata": {},
   "outputs": [
    {
     "name": "stdout",
     "output_type": "stream",
     "text": [
      "Numero 1: \n",
      "5\n",
      "Numero 2: \n",
      "8\n",
      " El resultado es: 13\n"
     ]
    }
   ],
   "source": [
    "print(\"Numero 1: \")\n",
    "numero1 = input()\n",
    "print(\"Numero 2: \")\n",
    "numero2 = input()\n",
    "numero3 = int(numero1) + int(numero2)\n",
    "print(f\" El resultado es: {numero3}\")"
   ]
  },
  {
   "cell_type": "code",
   "execution_count": null,
   "id": "08e60260",
   "metadata": {},
   "outputs": [],
   "source": []
  },
  {
   "cell_type": "code",
   "execution_count": null,
   "id": "e81ff57c",
   "metadata": {},
   "outputs": [],
   "source": []
  }
 ],
 "metadata": {
  "kernelspec": {
   "display_name": "Python 3 (ipykernel)",
   "language": "python",
   "name": "python3"
  },
  "language_info": {
   "codemirror_mode": {
    "name": "ipython",
    "version": 3
   },
   "file_extension": ".py",
   "mimetype": "text/x-python",
   "name": "python",
   "nbconvert_exporter": "python",
   "pygments_lexer": "ipython3",
   "version": "3.9.12"
  }
 },
 "nbformat": 4,
 "nbformat_minor": 5
}
