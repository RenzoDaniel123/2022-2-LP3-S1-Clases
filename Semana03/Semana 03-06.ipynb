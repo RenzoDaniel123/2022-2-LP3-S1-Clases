{
 "cells": [
  {
   "cell_type": "markdown",
   "id": "42e72ec9",
   "metadata": {},
   "source": [
    "# SEMANA 03\n",
    "Renzo Daniel Felix Alvarado"
   ]
  },
  {
   "cell_type": "markdown",
   "id": "676d383a",
   "metadata": {},
   "source": [
    "Temas\n",
    "1. Colecciones de Datos\n",
    "2. Estructuras Decisivas y Estructuras repetitivas en Python\n",
    "3. Clases y Objetos\n",
    "4. Funciones"
   ]
  },
  {
   "cell_type": "markdown",
   "id": "c3b51309",
   "metadata": {},
   "source": [
    "1. Colecciones"
   ]
  },
  {
   "cell_type": "code",
   "execution_count": 4,
   "id": "270378d1",
   "metadata": {},
   "outputs": [
    {
     "name": "stdout",
     "output_type": "stream",
     "text": [
      "['Silvestre', 'Uñapillco', 'Bravo', 'Alagon']\n"
     ]
    }
   ],
   "source": [
    "# 1.1. Listas\n",
    "# Es una colección de elementos que puede ser ordenado, modificados, etc ...\n",
    "# Se identifica por los corchetes\n",
    "# Ejemplo:\n",
    "aula = ['Silvestre', 'Uñapillco', 'Bravo', 'Alagon']\n",
    "print(aula)"
   ]
  },
  {
   "cell_type": "code",
   "execution_count": 5,
   "id": "40ff3139",
   "metadata": {},
   "outputs": [
    {
     "name": "stdout",
     "output_type": "stream",
     "text": [
      "Silvestre\n",
      "Uñapillco\n"
     ]
    }
   ],
   "source": [
    "# Puedo extraer cada elemento por su posición\n",
    "print(aula[0])\n",
    "print(aula[1])"
   ]
  },
  {
   "cell_type": "code",
   "execution_count": 6,
   "id": "83c22308",
   "metadata": {},
   "outputs": [
    {
     "data": {
      "text/plain": [
       "'Chavez'"
      ]
     },
     "execution_count": 6,
     "metadata": {},
     "output_type": "execute_result"
    }
   ],
   "source": [
    "# Puedo asignar un valor a una posición de la lista\n",
    "aula[1] = 'Chavez'\n",
    "aula[1]"
   ]
  },
  {
   "cell_type": "code",
   "execution_count": 7,
   "id": "34b1fade",
   "metadata": {},
   "outputs": [
    {
     "data": {
      "text/plain": [
       "['Silvestre', 'Chavez', 'Bravo', 'Alagon']"
      ]
     },
     "execution_count": 7,
     "metadata": {},
     "output_type": "execute_result"
    }
   ],
   "source": [
    "#Mostrar como quedo la lista\n",
    "aula"
   ]
  },
  {
   "cell_type": "code",
   "execution_count": 8,
   "id": "110ab423",
   "metadata": {},
   "outputs": [
    {
     "data": {
      "text/plain": [
       "['Silvestre', 'Chavez', 'Bravo', 'Alagon', 'Navarro', 'Bravo']"
      ]
     },
     "execution_count": 8,
     "metadata": {},
     "output_type": "execute_result"
    }
   ],
   "source": [
    "# Para  agregar un elemento utilizamos append\n",
    "aula.append(\"Navarro\")\n",
    "aula.append(\"Bravo\")\n",
    "aula"
   ]
  },
  {
   "cell_type": "code",
   "execution_count": 9,
   "id": "7feb8053",
   "metadata": {},
   "outputs": [
    {
     "data": {
      "text/plain": [
       "['Chavez', 'Bravo', 'Alagon', 'Navarro', 'Bravo']"
      ]
     },
     "execution_count": 9,
     "metadata": {},
     "output_type": "execute_result"
    }
   ],
   "source": [
    "# Para eliminar elementos utilizamos remove[]\n",
    "aula.remove(\"Silvestre\")\n",
    "aula"
   ]
  },
  {
   "cell_type": "code",
   "execution_count": 10,
   "id": "ae12379d",
   "metadata": {},
   "outputs": [
    {
     "data": {
      "text/plain": [
       "['Chavez', 'Alagon', 'Navarro', 'Bravo']"
      ]
     },
     "execution_count": 10,
     "metadata": {},
     "output_type": "execute_result"
    }
   ],
   "source": [
    "# Si hubiera varios elementos de valores iguales se elimina la primera coincidencia\n",
    "aula.remove(\"Bravo\")\n",
    "aula"
   ]
  },
  {
   "cell_type": "code",
   "execution_count": 11,
   "id": "8419d76a",
   "metadata": {},
   "outputs": [
    {
     "data": {
      "text/plain": [
       "4"
      ]
     },
     "execution_count": 11,
     "metadata": {},
     "output_type": "execute_result"
    }
   ],
   "source": [
    "# Para obtener el tamaño utilizamos len()\n",
    "len(aula)"
   ]
  },
  {
   "cell_type": "code",
   "execution_count": 15,
   "id": "54fef5ae",
   "metadata": {},
   "outputs": [
    {
     "name": "stdout",
     "output_type": "stream",
     "text": [
      "Chavez\n",
      "Alagon\n",
      "Navarro\n",
      "Bravo\n"
     ]
    }
   ],
   "source": [
    "# Para recorrer podemos utilizar una estructura repetitiva for\n",
    "for alumno in aula:\n",
    "    print(alumno)"
   ]
  },
  {
   "cell_type": "code",
   "execution_count": 17,
   "id": "366e3838",
   "metadata": {},
   "outputs": [
    {
     "data": {
      "text/plain": [
       "['Bravo', 'Navarro', 'Alagon', 'Chavez']"
      ]
     },
     "execution_count": 17,
     "metadata": {},
     "output_type": "execute_result"
    }
   ],
   "source": [
    "# Para invertir la lista utilizamos reverse()\n",
    "# Ojo: Invertir no significa ordenar en forma descendente sin invertir la lista\n",
    "aula.reverse()\n",
    "aula"
   ]
  },
  {
   "cell_type": "code",
   "execution_count": 18,
   "id": "c8cff2f2",
   "metadata": {},
   "outputs": [
    {
     "data": {
      "text/plain": [
       "['Alagon', 'Bravo', 'Chavez', 'Navarro']"
      ]
     },
     "execution_count": 18,
     "metadata": {},
     "output_type": "execute_result"
    }
   ],
   "source": [
    "# Para odernar una lista utilizamos sort()\n",
    "aula.sort()\n",
    "aula"
   ]
  },
  {
   "cell_type": "code",
   "execution_count": 76,
   "id": "b9a6a711",
   "metadata": {},
   "outputs": [
    {
     "data": {
      "text/plain": [
       "['Silvestre', 'Chavez', 'Bravo', 'Alagon']"
      ]
     },
     "execution_count": 76,
     "metadata": {},
     "output_type": "execute_result"
    }
   ],
   "source": [
    "# 1.2. Tuplas\n",
    "# Es una colección de elementos ordenada (Ordenado significa que tiene un índice) que no se puede modificar\n",
    "# No se puede agregar elementos o eliminar\n",
    "# Se identifica por los parentes\n",
    "\n",
    "tupla_aula = [\"Silvestre\", \"Chavez\", \"Bravo\", \"Alagon\"]\n",
    "tupla_aula"
   ]
  },
  {
   "cell_type": "code",
   "execution_count": 78,
   "id": "9dae6fb6",
   "metadata": {},
   "outputs": [
    {
     "ename": "IndentationError",
     "evalue": "unexpected indent (618431314.py, line 4)",
     "output_type": "error",
     "traceback": [
      "\u001b[1;36m  Input \u001b[1;32mIn [78]\u001b[1;36m\u001b[0m\n\u001b[1;33m    for alumno in tupla_aula:\u001b[0m\n\u001b[1;37m    ^\u001b[0m\n\u001b[1;31mIndentationError\u001b[0m\u001b[1;31m:\u001b[0m unexpected indent\n"
     ]
    }
   ],
   "source": [
    "# Se puede recorre en una estructura repetitiva\n",
    "# Ejemplo\n",
    "\n",
    " for alumno in tupla_aula:\n",
    "        print(alumno)"
   ]
  },
  {
   "cell_type": "code",
   "execution_count": 30,
   "id": "62902f99",
   "metadata": {},
   "outputs": [
    {
     "data": {
      "text/plain": [
       "'Bravo'"
      ]
     },
     "execution_count": 30,
     "metadata": {},
     "output_type": "execute_result"
    }
   ],
   "source": [
    "# Se puede extraer elemento por su posición\n",
    "tupla_aula[2]"
   ]
  },
  {
   "cell_type": "code",
   "execution_count": 23,
   "id": "d92709eb",
   "metadata": {},
   "outputs": [
    {
     "data": {
      "text/plain": [
       "4"
      ]
     },
     "execution_count": 23,
     "metadata": {},
     "output_type": "execute_result"
    }
   ],
   "source": [
    "# Para saber la cantidad de elementos de una tupla utilizamos len()\n",
    "len(tupla_aula)"
   ]
  },
  {
   "cell_type": "code",
   "execution_count": 71,
   "id": "c9071615",
   "metadata": {},
   "outputs": [
    {
     "data": {
      "text/plain": [
       "{'Alagon', 'Bravo', 'Chavez', 'Silvestre'}"
      ]
     },
     "execution_count": 71,
     "metadata": {},
     "output_type": "execute_result"
    }
   ],
   "source": [
    "# 1.3. Conjuntos\n",
    "# Es una colección de elementos que no esta ordenado (Significa que no tiene indice)\n",
    "conjunto_aula = {\"Silvestre\", \"Chavez\", \"Bravo\", \"Alagon\"}\n",
    "conjunto_aula"
   ]
  },
  {
   "cell_type": "code",
   "execution_count": 72,
   "id": "d9aa735d",
   "metadata": {},
   "outputs": [
    {
     "name": "stdout",
     "output_type": "stream",
     "text": [
      "Silvestre\n",
      "Bravo\n",
      "Alagon\n",
      "Chavez\n"
     ]
    }
   ],
   "source": [
    "# Se puede recorrer utilizando una estructura repetitiva\n",
    "# Ejemplo: \n",
    "for alumno in conjunto_aula:\n",
    "    print(alumno)"
   ]
  },
  {
   "cell_type": "code",
   "execution_count": 75,
   "id": "778b0090",
   "metadata": {},
   "outputs": [
    {
     "ename": "TypeError",
     "evalue": "'set' object is not subscriptable",
     "output_type": "error",
     "traceback": [
      "\u001b[1;31m---------------------------------------------------------------------------\u001b[0m",
      "\u001b[1;31mTypeError\u001b[0m                                 Traceback (most recent call last)",
      "Input \u001b[1;32mIn [75]\u001b[0m, in \u001b[0;36m<cell line: 4>\u001b[1;34m()\u001b[0m\n\u001b[0;32m      1\u001b[0m \u001b[38;5;66;03m#Observación\u001b[39;00m\n\u001b[0;32m      2\u001b[0m \u001b[38;5;66;03m# No se puede acceder por posición, pues no se considera indexación\u001b[39;00m\n\u001b[0;32m      3\u001b[0m \u001b[38;5;66;03m#Ejemplo: conjunto_aula[2] me devolvera un mensaje de error\u001b[39;00m\n\u001b[1;32m----> 4\u001b[0m \u001b[43mconjunto_aula\u001b[49m\u001b[43m[\u001b[49m\u001b[38;5;241;43m2\u001b[39;49m\u001b[43m]\u001b[49m\n",
      "\u001b[1;31mTypeError\u001b[0m: 'set' object is not subscriptable"
     ]
    }
   ],
   "source": [
    "#Observación\n",
    "# No se puede acceder por posición, pues no se considera indexación\n",
    "#Ejemplo: conjunto_aula[2] me devolvera un mensaje de error\n",
    "conjunto_aula[2]"
   ]
  },
  {
   "cell_type": "code",
   "execution_count": 74,
   "id": "63ec1f4a",
   "metadata": {},
   "outputs": [
    {
     "data": {
      "text/plain": [
       "4"
      ]
     },
     "execution_count": 74,
     "metadata": {},
     "output_type": "execute_result"
    }
   ],
   "source": [
    "# Para saber los elementos utilizamos len()\n",
    "len(conjunto_aula)"
   ]
  },
  {
   "cell_type": "code",
   "execution_count": 36,
   "id": "2b6a9904",
   "metadata": {},
   "outputs": [
    {
     "data": {
      "text/plain": [
       "{'Alagon', 'Bravo', 'Chavez', 'Palomino', 'Silvestre'}"
      ]
     },
     "execution_count": 36,
     "metadata": {},
     "output_type": "execute_result"
    }
   ],
   "source": [
    "# Para agregar utilizamos la funcion add()\n",
    "conjunto_aula.add(\"Palomino\")\n",
    "conjunto_aula"
   ]
  },
  {
   "cell_type": "code",
   "execution_count": 37,
   "id": "6dcb8e92",
   "metadata": {},
   "outputs": [
    {
     "data": {
      "text/plain": [
       "{2: 'Alagon', '1': 'Bravo', 'dos': 'Chavez', '3': 'Palomino', '0': 'Silvestre'}"
      ]
     },
     "execution_count": 37,
     "metadata": {},
     "output_type": "execute_result"
    }
   ],
   "source": [
    "# 1.4. Diccionarios\n",
    "# Es una colección de elementos que están indexados, no están ordenados y se puede modificar\n",
    "# Son escritos entre llaves y están formados por pares de elementos INDICE : VALOR\n",
    "\n",
    "diccionario_aula = {2:'Alagon', '1':'Bravo','dos':'Chavez','3':'Palomino','0':'Silvestre'}\n",
    "diccionario_aula"
   ]
  },
  {
   "cell_type": "code",
   "execution_count": 38,
   "id": "77acc6a2",
   "metadata": {},
   "outputs": [
    {
     "data": {
      "text/plain": [
       "'Bravo'"
      ]
     },
     "execution_count": 38,
     "metadata": {},
     "output_type": "execute_result"
    }
   ],
   "source": [
    "# Del diccionario: diccionario_aula extraer el valor cuyo índice sea uno en en string:\n",
    "diccionario_aula[\"1\"]"
   ]
  },
  {
   "cell_type": "code",
   "execution_count": 39,
   "id": "595d1736",
   "metadata": {},
   "outputs": [
    {
     "data": {
      "text/plain": [
       "'Chavez'"
      ]
     },
     "execution_count": 39,
     "metadata": {},
     "output_type": "execute_result"
    }
   ],
   "source": [
    "diccionario_aula[\"dos\"]"
   ]
  },
  {
   "cell_type": "code",
   "execution_count": 40,
   "id": "96c7a1b8",
   "metadata": {},
   "outputs": [
    {
     "data": {
      "text/plain": [
       "{2: 'Alagon',\n",
       " '1': 'Bravo',\n",
       " 'dos': 'Chavez',\n",
       " '3': 'Palomino',\n",
       " '0': 'Silvestre',\n",
       " '20': 'Vilca'}"
      ]
     },
     "execution_count": 40,
     "metadata": {},
     "output_type": "execute_result"
    }
   ],
   "source": [
    "# Para añadir un par de elementos al diccionario hacemos:\n",
    "diccionario_aula['20'] = \"Vilca\"\n",
    "diccionario_aula"
   ]
  },
  {
   "cell_type": "code",
   "execution_count": 41,
   "id": "44dab9e0",
   "metadata": {},
   "outputs": [
    {
     "data": {
      "text/plain": [
       "{'1': 'Bravo',\n",
       " 'dos': 'Chavez',\n",
       " '3': 'Palomino',\n",
       " '0': 'Silvestre',\n",
       " '20': 'Vilca'}"
      ]
     },
     "execution_count": 41,
     "metadata": {},
     "output_type": "execute_result"
    }
   ],
   "source": [
    "# Para eliminar un valor se utiliza pop()\n",
    "# Ejemplo:  Eliminar el elemento de indice dos. Para eliminar Alagon hacemo lo siguiente:\n",
    "diccionario_aula.pop(2)\n",
    "diccionario_aula"
   ]
  },
  {
   "cell_type": "code",
   "execution_count": 42,
   "id": "6e920db8",
   "metadata": {},
   "outputs": [
    {
     "data": {
      "text/plain": [
       "{'1': 'Bravo', '3': 'Palomino', '0': 'Silvestre', '20': 'Vilca'}"
      ]
     },
     "execution_count": 42,
     "metadata": {},
     "output_type": "execute_result"
    }
   ],
   "source": [
    "# Tambien se puede eliminar utilizando del()\n",
    "del(diccionario_aula[\"dos\"])\n",
    "diccionario_aula"
   ]
  },
  {
   "cell_type": "code",
   "execution_count": 44,
   "id": "e21f80b1",
   "metadata": {},
   "outputs": [
    {
     "name": "stdout",
     "output_type": "stream",
     "text": [
      "1\n",
      "3\n",
      "0\n",
      "20\n"
     ]
    }
   ],
   "source": [
    "# Para poder recorrer todos los elementos podemos utilizar for\n",
    "# Ejemplo:  Devuelve los indices.\n",
    "for indice in diccionario_aula:\n",
    "    print(indice)"
   ]
  },
  {
   "cell_type": "code",
   "execution_count": 46,
   "id": "bb5c45dd",
   "metadata": {},
   "outputs": [],
   "source": [
    "# 1.5. Ejercicio:\n",
    "# Dado una lista de [ALAGON, ARONES, BRAVO, CABEZAS,CAMAN, CAMARENA, CASAS,CORRALES, DE LA CRUZ, ESCOBAR, FELIX, FERNANDEZ, GARCIA, HUANUCO, NANQUEN, NAVARRO, PARILLO, QUISPE, SAIRA, SERNA, SILVESTRE,TOMASTO, UÑAPILLCO, VARGAS, VENTOCILLA,VENTURI, WONG, ZEVALLOS]\n",
    "# Diseñar un código que muestre si el apellido de un estudiante (Ingresado por el teclado) forma parte de la lista\n",
    "# tiempo: 12 minutos"
   ]
  },
  {
   "cell_type": "code",
   "execution_count": 52,
   "id": "ff3b30b0",
   "metadata": {},
   "outputs": [],
   "source": [
    "salon = [\"ALAGON\", \"ARONES\", \"BRAVO\", \"CABEZAS\", \"CAMAN\", \"CAMARENA\", \"CASAS\", \"CORRALES\", \"DE LA CRUZ\", \"ESCOBAR\", \"FELIX\", \"FERNANDEZ\", \"GARCIA\", \"HUANUCO\", \"NANQUEN\", \"NAVARRO\", \"PARILLO\", \"QUISPE\", \"SAIRA\", \"SERNA\", \"SILVESTRE\",\"TOMASTO\", \"UÑAPILLCO\", \"VARGAS\", \"VENTOCILLA\", \"VENTURI\", \"WONG\", \"ZEVALLOS\"]"
   ]
  },
  {
   "cell_type": "code",
   "execution_count": 62,
   "id": "676bddfe",
   "metadata": {},
   "outputs": [
    {
     "name": "stdout",
     "output_type": "stream",
     "text": [
      "LOPEZ\n"
     ]
    },
    {
     "data": {
      "text/plain": [
       "False"
      ]
     },
     "execution_count": 62,
     "metadata": {},
     "output_type": "execute_result"
    }
   ],
   "source": [
    "apellido = input()\n",
    "apellido in salon\n",
    "    "
   ]
  },
  {
   "cell_type": "code",
   "execution_count": 70,
   "id": "54769daa",
   "metadata": {
    "scrolled": true
   },
   "outputs": [
    {
     "name": "stdout",
     "output_type": "stream",
     "text": [
      "LOPEZ\n",
      "LOPEZ no se encuentra en la Lista\n"
     ]
    }
   ],
   "source": [
    "apellido = input()\n",
    "if((apellido in salon)):\n",
    "    print(apellido+\" si se encuentra en la Lista\")\n",
    "else:\n",
    "    print(apellido+\" no se encuentra en la Lista\")"
   ]
  },
  {
   "cell_type": "code",
   "execution_count": null,
   "id": "305ee0ca",
   "metadata": {},
   "outputs": [],
   "source": []
  },
  {
   "cell_type": "code",
   "execution_count": null,
   "id": "0f95ba4a",
   "metadata": {},
   "outputs": [],
   "source": []
  }
 ],
 "metadata": {
  "kernelspec": {
   "display_name": "Python 3 (ipykernel)",
   "language": "python",
   "name": "python3"
  },
  "language_info": {
   "codemirror_mode": {
    "name": "ipython",
    "version": 3
   },
   "file_extension": ".py",
   "mimetype": "text/x-python",
   "name": "python",
   "nbconvert_exporter": "python",
   "pygments_lexer": "ipython3",
   "version": "3.9.12"
  }
 },
 "nbformat": 4,
 "nbformat_minor": 5
}
